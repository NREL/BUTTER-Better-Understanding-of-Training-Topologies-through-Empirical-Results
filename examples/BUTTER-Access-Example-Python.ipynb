{
 "cells": [
  {
   "cell_type": "markdown",
   "metadata": {},
   "source": [
    "## BUTTER Access Example using Python data_utils module (PyArrow and S3FS)\n",
    "\n",
    "We provide a function `data_utils.read_pandas` which takes a sweep name, list of filters in PyArrow Parquet format [documentation](https://arrow.apache.org/docs/python/generated/pyarrow.parquet.ParquetDataset.html)), and a list of columns.\n",
    "\n",
    "This function uses an environment variable `DMP_DATA_DIR` to determine where to load the data from. Supported path strings are either local unix-like file-paths (e.g. `/home/data/butter`) or an S3 path (e.g. `s3://oedi-data-lake/butter`) If the environment variable is not set, then the code will automatically use the OEDI Data Lake."
   ]
  },
  {
   "cell_type": "code",
   "execution_count": 1,
   "metadata": {},
   "outputs": [],
   "source": [
    "import data_utils\n",
    "import matplotlib.pyplot as plt\n",
    "import numpy as np"
   ]
  },
  {
   "cell_type": "code",
   "execution_count": 2,
   "metadata": {},
   "outputs": [
    {
     "name": "stdout",
     "output_type": "stream",
     "text": [
      "CPU times: user 664 ms, sys: 174 ms, total: 839 ms\n",
      "Wall time: 5.88 s\n"
     ]
    }
   ],
   "source": [
    "%%time\n",
    "\n",
    "df = data_utils.read_pandas(\n",
    "        sweep='primary_sweep_summary',\n",
    "        filters=[\n",
    "            ('dataset', 'in', [\"201_pol\", \"537_houses\", \"mnist\", \"connect_4\", \"sleep\"]),\n",
    "            ('shape', '==', 'rectangle'),\n",
    "            ('depth', '==', 5)],\n",
    "        columns = [\n",
    "            \"test_loss_median\",\n",
    "            \"experiment_id\",\n",
    "            \"num_free_parameters\",\n",
    "            \"dataset\",\n",
    "            \"epochs\",\n",
    "            \"size\"\n",
    "    ])"
   ]
  },
  {
   "cell_type": "markdown",
   "metadata": {},
   "source": [
    "We can inspect the format of the data:"
   ]
  },
  {
   "cell_type": "code",
   "execution_count": 3,
   "metadata": {
    "scrolled": true
   },
   "outputs": [
    {
     "data": {
      "text/html": [
       "<div>\n",
       "<style scoped>\n",
       "    .dataframe tbody tr th:only-of-type {\n",
       "        vertical-align: middle;\n",
       "    }\n",
       "\n",
       "    .dataframe tbody tr th {\n",
       "        vertical-align: top;\n",
       "    }\n",
       "\n",
       "    .dataframe thead th {\n",
       "        text-align: right;\n",
       "    }\n",
       "</style>\n",
       "<table border=\"1\" class=\"dataframe\">\n",
       "  <thead>\n",
       "    <tr style=\"text-align: right;\">\n",
       "      <th></th>\n",
       "      <th>test_loss_median</th>\n",
       "      <th>experiment_id</th>\n",
       "      <th>num_free_parameters</th>\n",
       "      <th>dataset</th>\n",
       "      <th>epochs</th>\n",
       "      <th>size</th>\n",
       "    </tr>\n",
       "  </thead>\n",
       "  <tbody>\n",
       "    <tr>\n",
       "      <th>0</th>\n",
       "      <td>[1.1571984, 1.0480272, 0.8358843, 0.6152145, 0...</td>\n",
       "      <td>2034688</td>\n",
       "      <td>4197155</td>\n",
       "      <td>201_pol</td>\n",
       "      <td>3000</td>\n",
       "      <td>4194304</td>\n",
       "    </tr>\n",
       "    <tr>\n",
       "      <th>1</th>\n",
       "      <td>[2.1345997, 1.4075481, 1.2010565, 1.1670822, 1...</td>\n",
       "      <td>2042744</td>\n",
       "      <td>65435</td>\n",
       "      <td>201_pol</td>\n",
       "      <td>3000</td>\n",
       "      <td>65536</td>\n",
       "    </tr>\n",
       "    <tr>\n",
       "      <th>2</th>\n",
       "      <td>[1.1051655, 0.9162257, 0.6005205, 0.4830591, 0...</td>\n",
       "      <td>2046447</td>\n",
       "      <td>16777181</td>\n",
       "      <td>201_pol</td>\n",
       "      <td>3000</td>\n",
       "      <td>16777216</td>\n",
       "    </tr>\n",
       "    <tr>\n",
       "      <th>3</th>\n",
       "      <td>[1.1646081, 1.0808125, 0.9431104, 0.71189445, ...</td>\n",
       "      <td>2048285</td>\n",
       "      <td>2095723</td>\n",
       "      <td>201_pol</td>\n",
       "      <td>3000</td>\n",
       "      <td>2097152</td>\n",
       "    </tr>\n",
       "    <tr>\n",
       "      <th>4</th>\n",
       "      <td>[1.1302289, 0.9891485, 0.6911666, 0.5377671, 0...</td>\n",
       "      <td>2066434</td>\n",
       "      <td>8384951</td>\n",
       "      <td>201_pol</td>\n",
       "      <td>3000</td>\n",
       "      <td>8388608</td>\n",
       "    </tr>\n",
       "  </tbody>\n",
       "</table>\n",
       "</div>"
      ],
      "text/plain": [
       "                                    test_loss_median  experiment_id  \\\n",
       "0  [1.1571984, 1.0480272, 0.8358843, 0.6152145, 0...        2034688   \n",
       "1  [2.1345997, 1.4075481, 1.2010565, 1.1670822, 1...        2042744   \n",
       "2  [1.1051655, 0.9162257, 0.6005205, 0.4830591, 0...        2046447   \n",
       "3  [1.1646081, 1.0808125, 0.9431104, 0.71189445, ...        2048285   \n",
       "4  [1.1302289, 0.9891485, 0.6911666, 0.5377671, 0...        2066434   \n",
       "\n",
       "   num_free_parameters  dataset  epochs      size  \n",
       "0              4197155  201_pol    3000   4194304  \n",
       "1                65435  201_pol    3000     65536  \n",
       "2             16777181  201_pol    3000  16777216  \n",
       "3              2095723  201_pol    3000   2097152  \n",
       "4              8384951  201_pol    3000   8388608  "
      ]
     },
     "execution_count": 3,
     "metadata": {},
     "output_type": "execute_result"
    }
   ],
   "source": [
    "df.head()"
   ]
  },
  {
   "cell_type": "markdown",
   "metadata": {},
   "source": [
    "Here, we use another function frmo data_utils, `extract_data` to expand the data frame into long-format and clean up the data before plotting."
   ]
  },
  {
   "cell_type": "code",
   "execution_count": 4,
   "metadata": {},
   "outputs": [
    {
     "data": {
      "image/png": "[encoded data removed]",
      "text/plain": [
       "<Figure size 1500x300 with 5 Axes>"
      ]
     },
     "metadata": {
      "needs_background": "light"
     },
     "output_type": "display_data"
    }
   ],
   "source": [
    "plot_df = data_utils.extract_data(df, grouper=\"dataset\").dropna()\n",
    "\n",
    "plt.figure(figsize=(10,2), dpi=150)\n",
    "\n",
    "i = 1\n",
    "for dataset,gdf in plot_df.groupby(\"dataset\"):\n",
    "    plt.subplot(1,5,i)\n",
    "    plt.tricontourf(gdf[\"num_free_parameters\"],\n",
    "                    gdf[\"epoch\"],\n",
    "                    -np.log1p(gdf[\"test_loss_median\"]))\n",
    "    plt.yscale(\"log\")\n",
    "    plt.ylabel(\"Epoch\")\n",
    "    plt.xscale(\"log\")\n",
    "    plt.xlabel(\"Free Parameters\")\n",
    "    plt.title(dataset)\n",
    "    i+=1\n",
    "\n",
    "plt.tight_layout()\n",
    "plt.show()"
   ]
  },
  {
   "cell_type": "code",
   "execution_count": null,
   "metadata": {},
   "outputs": [],
   "source": []
  }
 ],
 "metadata": {
  "interpreter": {
   "hash": "cbe35b432729daa9376b8acc178b3ceea8238f767057487367425ff19d3392db"
  },
  "kernelspec": {
   "display_name": "Python 3 (ipykernel)",
   "language": "python",
   "name": "python3"
  },
  "language_info": {
   "codemirror_mode": {
    "name": "ipython",
    "version": 3
   },
   "file_extension": ".py",
   "mimetype": "text/x-python",
   "name": "python",
   "nbconvert_exporter": "python",
   "pygments_lexer": "ipython3",
   "version": "3.10.4"
  }
 },
 "nbformat": 4,
 "nbformat_minor": 2
}
